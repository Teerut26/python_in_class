{
  "nbformat": 4,
  "nbformat_minor": 0,
  "metadata": {
    "colab": {
      "name": "39389 03นายธีรุฒศรีทองดี - For Loop Python",
      "provenance": []
    },
    "kernelspec": {
      "name": "python3",
      "display_name": "Python 3"
    },
    "language_info": {
      "name": "python"
    }
  },
  "cells": [
    {
      "cell_type": "markdown",
      "metadata": {
        "id": "rpB0bHCbwGAk"
      },
      "source": [
        "## **For Loop**"
      ]
    },
    {
      "cell_type": "markdown",
      "metadata": {
        "id": "ZG_28uKCugS9"
      },
      "source": [
        "คำสั่ง for loop เป็นคำสั่งวนซ้ำที่ใช้ควบคุมการทำงานซ้ำๆ ในจำนวนรอบที่แน่นอน ในภาษา Python นั้นคำสั่ง for loop จะแตกต่างจากภาษาอื่นๆ อย่างภาษา C มันมักจะใช้สำหรับการวนอ่านค่าภายในออบเจ็ค เช่น ลิสต์หรือออบเจ็คจากฟังก์ชัน range() เป็นต้น มาดูตัวอย่างการใช้งานคำสั่ง for ในภาษา Python"
      ]
    },
    {
      "cell_type": "code",
      "metadata": {
        "id": "4xvITkbRuNlg",
        "colab": {
          "base_uri": "https://localhost:8080/"
        },
        "outputId": "de314d56-561c-4de6-dce6-f3f4c8570406"
      },
      "source": [
        "# loop through string\n",
        "text = 'visutcomputer'\n",
        "for n in text:\n",
        "    print(n)"
      ],
      "execution_count": 1,
      "outputs": [
        {
          "output_type": "stream",
          "name": "stdout",
          "text": [
            "v\n",
            "i\n",
            "s\n",
            "u\n",
            "t\n",
            "c\n",
            "o\n",
            "m\n",
            "p\n",
            "u\n",
            "t\n",
            "e\n",
            "r\n"
          ]
        }
      ]
    },
    {
      "cell_type": "code",
      "metadata": {
        "id": "ZcAT4lc60N-o"
      },
      "source": [
        "# loop through list\n",
        "names = ['ประภาส', 'John', 'กอล์ฟ', 'Mark', 'หญิง']\n",
        "for n in names:\n",
        "    print(n)"
      ],
      "execution_count": null,
      "outputs": []
    },
    {
      "cell_type": "code",
      "metadata": {
        "id": "IUqaR34J0PhP"
      },
      "source": [
        "numbers = [5, 20, 35, -10, 25, 80, 54, -100]\n",
        "for n in numbers:\n",
        "    print(n)"
      ],
      "execution_count": null,
      "outputs": []
    },
    {
      "cell_type": "markdown",
      "metadata": {
        "id": "7JLoBZoIwVw8"
      },
      "source": [
        "# **คำสั่ง for loop กับฟังก์ชัน range()**"
      ]
    },
    {
      "cell_type": "markdown",
      "metadata": {
        "id": "kBIWJS3ZvSRE"
      },
      "source": [
        "ในภาษา Python เรามักจะใช้คำสั่ง for loop กับฟังก์ชัน range() ในการวนอ่านค่าออบเจ็คของตัวเลข ฟังก์ชัน range() นั้นเป็น built-in ฟังก์ชันใช้สำหรับสร้างออบเจ็คของตัวเลข โดยมีพารามิเตอร์ 3 ตัว คือตัวเลขเริ่มต้น ตัวเลขสุดท้าย และค่าที่เปลี่ยนแปลงในลำดับของตัวเลข มาดูตัวอย่างการใช้งานฟังก์ชัน range() ในภาษา Python"
      ]
    },
    {
      "cell_type": "code",
      "metadata": {
        "id": "FQPTL97jvWgT"
      },
      "source": [
        "a = list(range(10))\n",
        "b = list(range(1, 11))\n",
        "c = list(range(0, 30, 5))\n",
        "d = list(range(0, -10, -1))\n",
        "\n",
        "print(a)\n",
        "print(b)\n",
        "print(c)\n",
        "print(d)"
      ],
      "execution_count": null,
      "outputs": []
    },
    {
      "cell_type": "markdown",
      "metadata": {
        "id": "l5dNP_Vm1ZR4"
      },
      "source": [
        "ผลลัพธ์การทำงานของโปรแกรมจากการสร้างออบเจ็คของตัวเลขด้วยฟังก์ชัน range() หลังจากนั้นแปลงให้เป็นลิสต์ด้วยฟังก์ชัน list()"
      ]
    },
    {
      "cell_type": "code",
      "metadata": {
        "id": "OLufM3JfvoOU"
      },
      "source": [
        "#ลองทดลองเปลี่ยนเลขใน () สังเกตผล\n",
        "for i in range(1, 11):\n",
        "    print(i, end = ', ')"
      ],
      "execution_count": null,
      "outputs": []
    },
    {
      "cell_type": "code",
      "metadata": {
        "id": "PZQX0DW_1nCX"
      },
      "source": [
        "#ลองทดลองเปลี่ยนเลขใน () สังเกตผล\n",
        "for i in range(10, 0, -1):\n",
        "    print(i, end = ', ')"
      ],
      "execution_count": null,
      "outputs": []
    },
    {
      "cell_type": "markdown",
      "metadata": {
        "id": "hR7LANYW2S85"
      },
      "source": [
        "เป็นการแสดงผลเพื่อแสดงตัวเลข 1 ถึง 10"
      ]
    },
    {
      "cell_type": "code",
      "metadata": {
        "id": "JCDwfUoS1s2W"
      },
      "source": [
        "#ลองทดลองเปลี่ยนชื่อใน '' สังเกตผล\n",
        "names = ['ประภาส', 'John', 'กอล์ฟ', 'Mark', 'หญิง']\n",
        "for i in range(len(names)):\n",
        "    print(names[i], end = ', ')"
      ],
      "execution_count": null,
      "outputs": []
    },
    {
      "cell_type": "markdown",
      "metadata": {
        "id": "8MwMsvj72XUY"
      },
      "source": [
        "แสดงผลชื่อจากลิสต์"
      ]
    },
    {
      "cell_type": "markdown",
      "metadata": {
        "id": "rcIEzNZi250x"
      },
      "source": [
        "# **คำสั่ง break**"
      ]
    },
    {
      "cell_type": "markdown",
      "metadata": {
        "id": "YKbKnmnX2873"
      },
      "source": [
        "คำสั่ง break ใช้สำหรับหยุดการทำงานของ loop ในทันทีโดยไม่จำเป็นต้องให้เงื่อนไขเป็น False ก่อน มันมักจะใช้ในกรณีที่เราต้องการสร้างเงื่อนไขให้โปรแกรมออกจาก loop ที่นอกเหนือจากเงื่อนไขของ loop มาดูตัวอย่างการใช้งานคำสั่ง break ในภาษา Python"
      ]
    },
    {
      "cell_type": "code",
      "metadata": {
        "id": "xGfeBHPR2-3Q"
      },
      "source": [
        "for i in range(1, 11):\n",
        "    if i == 5:\n",
        "        break\n",
        "    print(i, end = ', ')"
      ],
      "execution_count": null,
      "outputs": []
    },
    {
      "cell_type": "markdown",
      "metadata": {
        "id": "fcTdBoOY3GFQ"
      },
      "source": [
        "# **คำสั่ง continue**"
      ]
    },
    {
      "cell_type": "markdown",
      "metadata": {
        "id": "n4zE2V_L3J_n"
      },
      "source": [
        "ไม่เหมือนคำสั่ง break คำสั่ง continue ใช้สำหรับข้ามการทำงานของ loop ไปทำงานในรอบใหม่ทันทีโดยไม่สนใจคำสั่งที่เหลือหลังจากนั้น มาดูตัวอย่างการใช้งานคำสั่ง continue เพื่อแสดงผลตัวเลขคู่ในภาษา Python"
      ]
    },
    {
      "cell_type": "code",
      "metadata": {
        "id": "537v55_u3HSQ"
      },
      "source": [
        "for i in range(1, 11):   \n",
        "    if i % 2 == 1:\n",
        "        continue\n",
        "    print(i, end = ', ')"
      ],
      "execution_count": null,
      "outputs": []
    },
    {
      "cell_type": "markdown",
      "metadata": {
        "id": "8_3jseizxufk"
      },
      "source": [
        "# **โจทย์**"
      ]
    },
    {
      "cell_type": "markdown",
      "metadata": {
        "id": "OIDC_rLa52zB"
      },
      "source": [
        "**ตัวอย่าง** การใช้คำสั่ง random บนภาษา Python"
      ]
    },
    {
      "cell_type": "code",
      "metadata": {
        "id": "99DfHv4Z3knI"
      },
      "source": [
        "from random import randint\n",
        "print(randint(0, 50))"
      ],
      "execution_count": null,
      "outputs": []
    },
    {
      "cell_type": "markdown",
      "metadata": {
        "id": "MlAvAVfK49hY"
      },
      "source": [
        "เขียนโปรแกรมทายผลตัวเลขที่สุ่มมา ตั้งแต่ 1-10 โดยกกำหนดให้ทายได้แค่ 3 ครั้ง ถ้าถูกต้องให้แสดงข้อความว่า \"ถูกต้อง\" หากตอบผิดให้แสดงข้อความว่า \"ตอบผิด\" และเฉลยเลขที่สุ่มออกมา ดังรูปตัวอย่าง"
      ]
    },
    {
      "cell_type": "code",
      "metadata": {
        "id": "Luam9q4l6DlI",
        "colab": {
          "base_uri": "https://localhost:8080/"
        },
        "outputId": "fdd6253d-5d1a-41c3-81dd-df8bd320a4eb"
      },
      "source": [
        "from random import randint\n",
        "number_randrom = randint(1, 10)\n",
        "# number_randrom = 3\n",
        "for i in range(3):\n",
        "  number_input = int(input(\"Enter number : \"))\n",
        "  if(number_input == number_randrom):\n",
        "    print(\"ถูกต้อง\")\n",
        "    break\n",
        "  else:\n",
        "    print(\"ตอบผิด\")\n",
        "    continue\n",
        "\n",
        "print(f\"เลขที่ถูกต้อง : {number_randrom}\")"
      ],
      "execution_count": 10,
      "outputs": [
        {
          "output_type": "stream",
          "name": "stdout",
          "text": [
            "Enter number : 6\n",
            "ตอบผิด\n",
            "Enter number : 5\n",
            "ตอบผิด\n",
            "Enter number : 4\n",
            "ตอบผิด\n",
            "เลขที่ถูกต้อง : 3\n"
          ]
        }
      ]
    },
    {
      "cell_type": "markdown",
      "metadata": {
        "id": "81c4DoCr99Jh"
      },
      "source": [
        "**กรณี** ตอบผิด ทั้ง 3 ครั้ง"
      ]
    },
    {
      "cell_type": "markdown",
      "metadata": {
        "id": "NnEYv8Qn96m6"
      },
      "source": [
        "![image.png](data:image/png;base64,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)"
      ]
    },
    {
      "cell_type": "markdown",
      "metadata": {
        "id": "DbJ4HV6b-H_Z"
      },
      "source": [
        "**กรณี** ตอบถูกต้อง จะตอบถูกตอนไหนก็จบโปรแกรมได้เลย ในรูปเป็นตอบถูกครั้งที่ 2"
      ]
    },
    {
      "cell_type": "markdown",
      "metadata": {
        "id": "FZL9r-Ye-ZGo"
      },
      "source": [
        "![image.png](data:image/png;base64,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)"
      ]
    }
  ]
}